{
  "nbformat": 4,
  "nbformat_minor": 0,
  "metadata": {
    "colab": {
      "provenance": [],
      "authorship_tag": "ABX9TyNvg5+5Y7UpKviRyrgjwTGa",
      "include_colab_link": true
    },
    "kernelspec": {
      "name": "python3",
      "display_name": "Python 3"
    },
    "language_info": {
      "name": "python"
    }
  },
  "cells": [
    {
      "cell_type": "markdown",
      "metadata": {
        "id": "view-in-github",
        "colab_type": "text"
      },
      "source": [
        "<a href=\"https://colab.research.google.com/github/hugosaraujo/AdministrativoByteBank/blob/master/desafio_aula01.ipynb\" target=\"_parent\"><img src=\"https://colab.research.google.com/assets/colab-badge.svg\" alt=\"Open In Colab\"/></a>"
      ]
    },
    {
      "cell_type": "code",
      "execution_count": null,
      "metadata": {
        "id": "-hjfjqRrpSan"
      },
      "outputs": [],
      "source": []
    },
    {
      "cell_type": "markdown",
      "source": [
        "1. Escreva a frase escola de dados\n",
        "2. Imprima seu nome e sobrenome seguindo a seguinte estrutura\n",
        "\n",
        "Nome: [seu nome]\n",
        "Sobrenome: [seu sobrenome]\n"
      ],
      "metadata": {
        "id": "K7xXpyVWpgg7"
      }
    },
    {
      "cell_type": "code",
      "source": [
        "print('Escola de Dados')"
      ],
      "metadata": {
        "colab": {
          "base_uri": "https://localhost:8080/"
        },
        "id": "pnGnSAv5pq1w",
        "outputId": "4ae22a7d-e8ba-46bb-c126-590760d79f57"
      },
      "execution_count": 1,
      "outputs": [
        {
          "output_type": "stream",
          "name": "stdout",
          "text": [
            "Escola de Dados\n"
          ]
        }
      ]
    },
    {
      "cell_type": "code",
      "source": [
        "nome = 'Hugo'\n",
        "sobrenome = 'de Araujo'\n",
        "print('Nome:', nome, '\\n' + 'Sobrenome:', sobrenome)"
      ],
      "metadata": {
        "colab": {
          "base_uri": "https://localhost:8080/"
        },
        "id": "6e-v7SLNp6MZ",
        "outputId": "38691493-f8db-4244-ccb2-b163e21b39b6"
      },
      "execution_count": 11,
      "outputs": [
        {
          "output_type": "stream",
          "name": "stdout",
          "text": [
            "Nome: Hugo \n",
            "Sobrenome: de Araujo\n"
          ]
        },
        {
          "output_type": "execute_result",
          "data": {
            "text/plain": [
              "str"
            ]
          },
          "metadata": {},
          "execution_count": 11
        }
      ]
    },
    {
      "cell_type": "markdown",
      "source": [
        "1. Imprima o seu primeiro nome letra a letra. Cada letra deve ocupar uma linha inteira na saída."
      ],
      "metadata": {
        "id": "QkOYHInUqhgG"
      }
    },
    {
      "cell_type": "code",
      "source": [
        "print('H\\nU\\nG\\nO ')"
      ],
      "metadata": {
        "colab": {
          "base_uri": "https://localhost:8080/"
        },
        "id": "1_4Na4FSqwTQ",
        "outputId": "1e91ef7d-f5b3-4eb8-cf97-96c3a254f788"
      },
      "execution_count": 10,
      "outputs": [
        {
          "output_type": "stream",
          "name": "stdout",
          "text": [
            "H\n",
            "U\n",
            "G\n",
            "O \n"
          ]
        }
      ]
    },
    {
      "cell_type": "markdown",
      "source": [
        "1. Imprima o dia do seu nascimento em formato dia mês ano. Lembrando que os valores de dia e ano não podem estar entre aspas."
      ],
      "metadata": {
        "id": "YSjLm7cMrFg3"
      }
    },
    {
      "cell_type": "code",
      "source": [
        "print(9, 'abril', 1994)"
      ],
      "metadata": {
        "colab": {
          "base_uri": "https://localhost:8080/"
        },
        "id": "EU938gWCramD",
        "outputId": "a0e0927a-fe87-4c2d-ebee-deed5f7b1f20"
      },
      "execution_count": 6,
      "outputs": [
        {
          "output_type": "stream",
          "name": "stdout",
          "text": [
            "9 abril 1994\n"
          ]
        }
      ]
    },
    {
      "cell_type": "markdown",
      "source": [
        "1. Imprima, em um único print, o atual ano que você está fazendo esse curso. O valor do ano deve ser um dado numérico."
      ],
      "metadata": {
        "id": "Nkc6jGokr24N"
      }
    },
    {
      "cell_type": "code",
      "source": [
        "print('Ano Atual:', 2024)"
      ],
      "metadata": {
        "colab": {
          "base_uri": "https://localhost:8080/"
        },
        "id": "h8LpVXQesK2C",
        "outputId": "9a0e02a8-1f92-46bb-bdde-a6ad0d1fe9cc"
      },
      "execution_count": 9,
      "outputs": [
        {
          "output_type": "stream",
          "name": "stdout",
          "text": [
            "Ano Atual: 2024\n"
          ]
        }
      ]
    }
  ]
}